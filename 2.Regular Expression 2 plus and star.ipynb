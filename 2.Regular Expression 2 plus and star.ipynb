{
 "cells": [
  {
   "cell_type": "code",
   "execution_count": 6,
   "metadata": {},
   "outputs": [
    {
     "name": "stdout",
     "output_type": "stream",
     "text": [
      "worked\n",
      "worked\n",
      "Not work\n"
     ]
    }
   ],
   "source": [
    "import re\n",
    "pattern=\"hell(o)*\"#zero or more time o\n",
    "if re.match(pattern,\"helloo\"):\n",
    "    print(\"worked\")\n",
    "else:\n",
    "    print(\"Not work\")\n",
    "\n",
    "pattern=\"hell(o)*xyz\"#zero or more time o\n",
    "if re.match(pattern,\"hellooxyz\"):\n",
    "    print(\"worked\")\n",
    "else:\n",
    "    print(\"Not work\")\n",
    "\n",
    "pattern=\"hell(o)+\"#one or more time o\n",
    "if re.match(pattern,\"hell\"):\n",
    "    print(\"worked\")\n",
    "else:\n",
    "    print(\"Not work\")\n"
   ]
  }
 ],
 "metadata": {
  "kernelspec": {
   "display_name": "Python 3",
   "language": "python",
   "name": "python3"
  },
  "language_info": {
   "codemirror_mode": {
    "name": "ipython",
    "version": 3
   },
   "file_extension": ".py",
   "mimetype": "text/x-python",
   "name": "python",
   "nbconvert_exporter": "python",
   "pygments_lexer": "ipython3",
   "version": "3.12.5"
  }
 },
 "nbformat": 4,
 "nbformat_minor": 2
}
