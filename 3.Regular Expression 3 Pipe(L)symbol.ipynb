{
 "cells": [
  {
   "cell_type": "code",
   "execution_count": 2,
   "metadata": {},
   "outputs": [
    {
     "name": "stdout",
     "output_type": "stream",
     "text": [
      "Yes found\n",
      "yes\n"
     ]
    }
   ],
   "source": [
    "#pipe(|)works as logical or\n",
    "#he(e|i) here must be h or i\n",
    "import re\n",
    "if re.match(\"Go(es|ing)\",\"Goes\"):\n",
    "    print(\"Yes found\")\n",
    "else:\n",
    "    print(\"Not found\")\n",
    "\n",
    "\n",
    "pattern=\"s(i|o|s)ng\"\n",
    "text=\"sing\"\n",
    "if re.search(pattern,text):\n",
    "    print(\"yes\")\n",
    "else:\n",
    "     print(\"NO\")\n",
    "\n",
    "pattern=\"s(i|o|s)*ng\"\n",
    "text=\"sng\"\n",
    "if re.search(pattern,text):\n",
    "    print(\"yes\")\n",
    "else:\n",
    "     print(\"NO\")"
   ]
  }
 ],
 "metadata": {
  "kernelspec": {
   "display_name": "Python 3",
   "language": "python",
   "name": "python3"
  },
  "language_info": {
   "codemirror_mode": {
    "name": "ipython",
    "version": 3
   },
   "file_extension": ".py",
   "mimetype": "text/x-python",
   "name": "python",
   "nbconvert_exporter": "python",
   "pygments_lexer": "ipython3",
   "version": "3.12.5"
  }
 },
 "nbformat": 4,
 "nbformat_minor": 2
}
