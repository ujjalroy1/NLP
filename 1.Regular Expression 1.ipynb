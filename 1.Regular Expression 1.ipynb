{
 "cells": [
  {
   "cell_type": "code",
   "execution_count": 8,
   "metadata": {},
   "outputs": [
    {
     "name": "stdout",
     "output_type": "stream",
     "text": [
      "<re.Match object; span=(0, 5), match='Ujjal'>\n",
      "Yes match\n"
     ]
    }
   ],
   "source": [
    "#pattern is any kind of string\n",
    "import re\n",
    "pattern=\"Ujjal\"\n",
    "ans=re.match(pattern,\"Ujjal Dada\")\n",
    "print(ans)\n",
    "if ans:\n",
    "    print(\"Yes match\")\n",
    "else:\n",
    "    print(\"Not match\")"
   ]
  },
  {
   "cell_type": "code",
   "execution_count": 10,
   "metadata": {},
   "outputs": [
    {
     "name": "stdout",
     "output_type": "stream",
     "text": [
      "Yes\n"
     ]
    }
   ],
   "source": [
    "#Meta character (. dot) match any character\n",
    "pattern=\"ujj.l\"\n",
    "ans=re.match(pattern,\"ujjal\")\n",
    "if ans:\n",
    "    print(\"Yes\")\n",
    "else :\n",
    "    print(\"No\")\n"
   ]
  },
  {
   "cell_type": "code",
   "execution_count": 13,
   "metadata": {},
   "outputs": [
    {
     "name": "stdout",
     "output_type": "stream",
     "text": [
      "yes\n",
      "NO\n",
      "ace 1\n"
     ]
    }
   ],
   "source": [
    "# Character class set\n",
    "# [aeiou] match any vowel\n",
    "# [0-9] match any digit\n",
    "# [a-z] match any lower case\n",
    "\n",
    "pattern=\"[aeiou]\"\n",
    "if re.search(pattern,\"Ujjal\"):\n",
    "    print(\"yes\")\n",
    "else:\n",
    "    print(\"NO\")\n",
    "if re.search(pattern,\"UJJAL\"):\n",
    "    print(\"yes\")\n",
    "else:\n",
    "    print(\"NO\")\n",
    "patter=\"[0-9]\"\n",
    "if re.search(patter,\"Ujjal1\"):\n",
    "    print(\"ace 1\")\n",
    "else:\n",
    "    print(\"not found\")\n",
    "\n"
   ]
  }
 ],
 "metadata": {
  "kernelspec": {
   "display_name": "Python 3",
   "language": "python",
   "name": "python3"
  },
  "language_info": {
   "codemirror_mode": {
    "name": "ipython",
    "version": 3
   },
   "file_extension": ".py",
   "mimetype": "text/x-python",
   "name": "python",
   "nbconvert_exporter": "python",
   "pygments_lexer": "ipython3",
   "version": "3.12.5"
  }
 },
 "nbformat": 4,
 "nbformat_minor": 2
}
