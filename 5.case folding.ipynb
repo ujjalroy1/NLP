{
 "cells": [
  {
   "cell_type": "code",
   "execution_count": 3,
   "metadata": {},
   "outputs": [
    {
     "name": "stdout",
     "output_type": "stream",
     "text": [
      "hello i am ujjal roy from hstu\n",
      "hello i am ujjal roy from hstu\n"
     ]
    }
   ],
   "source": [
    "text=\"Hello I am Ujjal Roy from HSTU\"\n",
    "ans_text=text.casefold()\n",
    "print(ans_text)\n",
    "ans=text.lower()\n",
    "print(ans)\n"
   ]
  }
 ],
 "metadata": {
  "kernelspec": {
   "display_name": "Python 3",
   "language": "python",
   "name": "python3"
  },
  "language_info": {
   "codemirror_mode": {
    "name": "ipython",
    "version": 3
   },
   "file_extension": ".py",
   "mimetype": "text/x-python",
   "name": "python",
   "nbconvert_exporter": "python",
   "pygments_lexer": "ipython3",
   "version": "3.12.5"
  }
 },
 "nbformat": 4,
 "nbformat_minor": 2
}
