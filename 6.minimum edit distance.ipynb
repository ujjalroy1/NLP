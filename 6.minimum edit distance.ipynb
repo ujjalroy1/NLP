{
 "cells": [
  {
   "cell_type": "code",
   "execution_count": 2,
   "metadata": {},
   "outputs": [],
   "source": [
    "import numpy as np"
   ]
  },
  {
   "cell_type": "code",
   "execution_count": 8,
   "metadata": {},
   "outputs": [
    {
     "name": "stdout",
     "output_type": "stream",
     "text": [
      "[[0. 1. 2. 3. 4. 5.]\n",
      " [1. 0. 0. 0. 0. 0.]\n",
      " [2. 0. 0. 0. 0. 0.]\n",
      " [3. 0. 0. 0. 0. 0.]\n",
      " [4. 0. 0. 0. 0. 0.]]\n",
      "[[0. 1. 1. 1. 1. 0.]\n",
      " [1. 2. 2. 1. 2. 1.]\n",
      " [2. 3. 2. 2. 3. 2.]\n",
      " [3. 4. 3. 3. 4. 3.]\n",
      " [3. 5. 4. 4. 5. 4.]]\n"
     ]
    }
   ],
   "source": [
    "import numpy as np\n",
    "text1=\"idal\"\n",
    "text2=\"ediel\"\n",
    "dist=np.zeros((len(text1)+1,len(text2)+1))\n",
    "\n",
    "dist[0,:]=np.arange(len(text2)+1)\n",
    "dist[:,0]=np.arange(len(text1)+1)\n",
    "print(dist)\n",
    "for i in range(len(text1)+1):\n",
    "    for j in range(len(text2)+1):\n",
    "        if(text1[i-1]==text2[j-1]):\n",
    "            dist[i,j]=dist[i-1,j-1]\n",
    "        else:\n",
    "            dist[i,j]=min(dist[i-1,j]+1,dist[i-1,j]+1,dist[i-1,j-1]+2)\n",
    "print(dist)"
   ]
  }
 ],
 "metadata": {
  "kernelspec": {
   "display_name": "Python 3",
   "language": "python",
   "name": "python3"
  },
  "language_info": {
   "codemirror_mode": {
    "name": "ipython",
    "version": 3
   },
   "file_extension": ".py",
   "mimetype": "text/x-python",
   "name": "python",
   "nbconvert_exporter": "python",
   "pygments_lexer": "ipython3",
   "version": "3.12.5"
  }
 },
 "nbformat": 4,
 "nbformat_minor": 2
}
